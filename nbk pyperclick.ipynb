{
 "cells": [
  {
   "cell_type": "code",
   "execution_count": 1,
   "metadata": {},
   "outputs": [],
   "source": [
    "import pyperclip"
   ]
  },
  {
   "cell_type": "code",
   "execution_count": 2,
   "metadata": {},
   "outputs": [],
   "source": [
    "import pymsgbox"
   ]
  },
  {
   "cell_type": "code",
   "execution_count": 3,
   "metadata": {},
   "outputs": [
    {
     "name": "stderr",
     "output_type": "stream",
     "text": [
      "p:\\pyperclick\\pyperclick\\Lib\\site-packages\\tqdm\\auto.py:21: TqdmWarning: IProgress not found. Please update jupyter and ipywidgets. See https://ipywidgets.readthedocs.io/en/stable/user_install.html\n",
      "  from .autonotebook import tqdm as notebook_tqdm\n"
     ]
    }
   ],
   "source": [
    "\n",
    "from transformers import pipeline\n",
    "import time"
   ]
  },
  {
   "cell_type": "code",
   "execution_count": 9,
   "metadata": {},
   "outputs": [
    {
     "name": "stderr",
     "output_type": "stream",
     "text": [
      "No model was supplied, defaulted to sshleifer/distilbart-cnn-12-6 and revision a4f8f3e (https://huggingface.co/sshleifer/distilbart-cnn-12-6).\n",
      "Using a pipeline without specifying a model name and revision in production is not recommended.\n",
      "Device set to use cuda:0\n"
     ]
    }
   ],
   "source": [
    "summarizer = pipeline(\"summarization\")"
   ]
  },
  {
   "cell_type": "code",
   "execution_count": 12,
   "metadata": {},
   "outputs": [
    {
     "name": "stdout",
     "output_type": "stream",
     "text": [
      "Monitoring clipboard for text...\n"
     ]
    },
    {
     "ename": "KeyboardInterrupt",
     "evalue": "",
     "output_type": "error",
     "traceback": [
      "\u001b[1;31m---------------------------------------------------------------------------\u001b[0m",
      "\u001b[1;31mKeyboardInterrupt\u001b[0m                         Traceback (most recent call last)",
      "Cell \u001b[1;32mIn[12], line 18\u001b[0m\n\u001b[0;32m     15\u001b[0m             summarize_clipboard_text(text)\n\u001b[0;32m     16\u001b[0m         time\u001b[38;5;241m.\u001b[39msleep(\u001b[38;5;241m1\u001b[39m)  \u001b[38;5;66;03m# Check the clipboard every second\u001b[39;00m\n\u001b[1;32m---> 18\u001b[0m \u001b[43mmonitor_clipboard\u001b[49m\u001b[43m(\u001b[49m\u001b[43m)\u001b[49m\n",
      "Cell \u001b[1;32mIn[12], line 16\u001b[0m, in \u001b[0;36mmonitor_clipboard\u001b[1;34m()\u001b[0m\n\u001b[0;32m     14\u001b[0m     last_text \u001b[38;5;241m=\u001b[39m text\n\u001b[0;32m     15\u001b[0m     summarize_clipboard_text(text)\n\u001b[1;32m---> 16\u001b[0m \u001b[43mtime\u001b[49m\u001b[38;5;241;43m.\u001b[39;49m\u001b[43msleep\u001b[49m\u001b[43m(\u001b[49m\u001b[38;5;241;43m1\u001b[39;49m\u001b[43m)\u001b[49m\n",
      "\u001b[1;31mKeyboardInterrupt\u001b[0m: "
     ]
    }
   ],
   "source": [
    "\n",
    "def summarize_clipboard_text(text):\n",
    "    if len(text) > 100:  # Assuming text > 100 characters needs summarization\n",
    "        summary = summarizer(text, max_length=50, min_length=10, do_sample=False)\n",
    "        pymsgbox.alert(summary[0]['summary_text'], \"Summary\")\n",
    "    else:\n",
    "        pymsgbox.alert(\"The selected text is too short to summarize.\", \"Error\")\n",
    "\n",
    "def monitor_clipboard():\n",
    "    last_text = \"\"\n",
    "    print(\"Monitoring clipboard for text...\")\n",
    "    while True:\n",
    "        text = pyperclip.paste()\n",
    "        if text != last_text:  # Detect new text\n",
    "            last_text = text\n",
    "            summarize_clipboard_text(text)\n",
    "        time.sleep(1)  # Check the clipboard every second\n",
    "\n",
    "monitor_clipboard()\n"
   ]
  },
  {
   "cell_type": "markdown",
   "metadata": {},
   "source": [
    "# Attempt to make a Stand Alone sharebale EXE"
   ]
  },
  {
   "cell_type": "code",
   "execution_count": 4,
   "metadata": {},
   "outputs": [],
   "source": [
    "from transformers import AutoTokenizer, AutoModelForSeq2SeqLM"
   ]
  },
  {
   "cell_type": "code",
   "execution_count": 5,
   "metadata": {},
   "outputs": [],
   "source": [
    "from pystray import Icon, Menu, MenuItem\n",
    "from PIL import Image, ImageDraw"
   ]
  },
  {
   "cell_type": "code",
   "execution_count": 6,
   "metadata": {},
   "outputs": [],
   "source": [
    "import threading"
   ]
  },
  {
   "cell_type": "code",
   "execution_count": 7,
   "metadata": {},
   "outputs": [],
   "source": [
    "# Function to create a simple tray icon\n",
    "def create_image():\n",
    "    width, height = 64, 64\n",
    "    color1, color2 = \"white\", \"black\"\n",
    "    image = Image.new(\"RGB\", (width, height), color1)\n",
    "    dc = ImageDraw.Draw(image)\n",
    "    dc.rectangle((width // 4, height // 4, width * 3 // 4, height * 3 // 4), fill=color2)\n",
    "    return image"
   ]
  },
  {
   "cell_type": "code",
   "execution_count": 8,
   "metadata": {},
   "outputs": [],
   "source": [
    "# Clipboard monitoring flag\n",
    "monitoring = False"
   ]
  },
  {
   "cell_type": "code",
   "execution_count": 12,
   "metadata": {},
   "outputs": [
    {
     "name": "stdout",
     "output_type": "stream",
     "text": [
      "Loading summarization model...\n"
     ]
    }
   ],
   "source": [
    "# Load the model and tokenizer locally\n",
    "def load_summarizer():\n",
    "    print(\"Loading summarization model...\")\n",
    "    model_name = \"t5-small\"  # Lightweight model for summarization\n",
    "    tokenizer = AutoTokenizer.from_pretrained(model_name)\n",
    "    model = AutoModelForSeq2SeqLM.from_pretrained(model_name)\n",
    "    return tokenizer, model\n",
    "\n",
    "tokenizer, model = load_summarizer()"
   ]
  },
  {
   "cell_type": "code",
   "execution_count": 10,
   "metadata": {},
   "outputs": [],
   "source": [
    "def summarize_text(text):\n",
    "    inputs = tokenizer.encode(\"summarize: \" + text, return_tensors=\"pt\", max_length=512, truncation=True)\n",
    "    outputs = model.generate(inputs, max_length=50, min_length=10, length_penalty=2.0, num_beams=4, early_stopping=True)\n",
    "    return tokenizer.decode(outputs[0], skip_special_tokens=True)"
   ]
  },
  {
   "cell_type": "code",
   "execution_count": 11,
   "metadata": {},
   "outputs": [],
   "source": [
    "def summarize_clipboard_text():\n",
    "    text = pyperclip.paste()\n",
    "    if len(text) > 100:  # Assuming text > 100 characters needs summarization\n",
    "        summary = summarize_text(text)\n",
    "        pymsgbox.alert(summary, \"Summary\")\n",
    "    else:\n",
    "        pymsgbox.alert(\"The selected text is too short to summarize.\", \"Error\")"
   ]
  },
  {
   "cell_type": "code",
   "execution_count": 12,
   "metadata": {},
   "outputs": [],
   "source": [
    "def monitor_clipboard():\n",
    "    global monitoring\n",
    "    monitoring = True\n",
    "    last_text = \"\"\n",
    "    print(\"Monitoring clipboard for text...\")\n",
    "    while True:\n",
    "        text = pyperclip.paste()\n",
    "        if text != last_text:  # Detect new text\n",
    "            last_text = text\n",
    "            summarize_clipboard_text()\n",
    "        time.sleep(1)  # Check the clipboard every second"
   ]
  },
  {
   "cell_type": "code",
   "execution_count": 13,
   "metadata": {},
   "outputs": [],
   "source": [
    "# Menu actions for the tray icon\n",
    "def on_start(icon, item):\n",
    "    threading.Thread(target=monitor_clipboard, daemon=True).start()\n",
    "\n",
    "def on_pause(icon, item):\n",
    "    global monitoring\n",
    "    monitoring = False\n",
    "\n",
    "def on_exit(icon, item):\n",
    "    icon.stop()"
   ]
  },
  {
   "cell_type": "code",
   "execution_count": null,
   "metadata": {},
   "outputs": [],
   "source": [
    "# Create the system tray icon and menu\n",
    "menu = Menu(\n",
    "    MenuItem(\"Start Monitoring\", on_start),\n",
    "    MenuItem(\"Pause Monitoring\", on_pause),\n",
    "    MenuItem(\"Exit\", on_exit)\n",
    ")\n",
    "tray_icon = Icon(\"Clipboard Summarizer\", create_image(), \"Clipboard Summarizer\", menu)"
   ]
  },
  {
   "cell_type": "code",
   "execution_count": null,
   "metadata": {},
   "outputs": [
    {
     "name": "stdout",
     "output_type": "stream",
     "text": [
      "Monitoring clipboard for text...\n"
     ]
    },
    {
     "name": "stderr",
     "output_type": "stream",
     "text": [
      "Exception ignored on calling ctypes callback function: <function _dispatcher at 0x000002672E033C40>\n",
      "Traceback (most recent call last):\n",
      "  File \"p:\\pyperclick\\pyperclick\\Lib\\site-packages\\pystray\\_win32.py\", line 395, in _dispatcher\n",
      "    @win32.WNDPROC\n",
      "    \n",
      "KeyboardInterrupt: \n"
     ]
    }
   ],
   "source": [
    "tray_icon.run()"
   ]
  },
  {
   "cell_type": "markdown",
   "metadata": {},
   "source": [
    "# Trying something better"
   ]
  },
  {
   "cell_type": "code",
   "execution_count": 7,
   "metadata": {},
   "outputs": [],
   "source": [
    "from plyer import notification"
   ]
  },
  {
   "cell_type": "code",
   "execution_count": 8,
   "metadata": {},
   "outputs": [],
   "source": [
    "import os"
   ]
  },
  {
   "cell_type": "code",
   "execution_count": 9,
   "metadata": {},
   "outputs": [],
   "source": [
    "def notify_user(title, message):\n",
    "    notification.notify(\n",
    "        title=title,\n",
    "        message=message,\n",
    "        app_name=\"Clipboard Summarizer\",\n",
    "        timeout=5\n",
    "    )"
   ]
  },
  {
   "cell_type": "code",
   "execution_count": 10,
   "metadata": {},
   "outputs": [],
   "source": [
    "# Clipboard monitoring flag\n",
    "monitoring = threading.Event()"
   ]
  },
  {
   "cell_type": "code",
   "execution_count": 11,
   "metadata": {},
   "outputs": [],
   "source": [
    "# Load the model and tokenizer locally\n",
    "def load_summarizer():\n",
    "    print(\"Loading summarization model...\")\n",
    "    model_name = \"t5-small\"  # Lightweight model for summarization\n",
    "    tokenizer = AutoTokenizer.from_pretrained(model_name)\n",
    "    model = AutoModelForSeq2SeqLM.from_pretrained(model_name)\n",
    "    return tokenizer, model"
   ]
  },
  {
   "cell_type": "code",
   "execution_count": 12,
   "metadata": {},
   "outputs": [
    {
     "name": "stdout",
     "output_type": "stream",
     "text": [
      "Loading summarization model...\n"
     ]
    }
   ],
   "source": [
    "try:\n",
    "    tokenizer, model = load_summarizer()\n",
    "except Exception as e:\n",
    "    print(\"Error loading summarization model:\", e)\n",
    "    pymsgbox.alert(\"Failed to load summarization model. Please check your installation.\", \"Error\")\n",
    "    exit()"
   ]
  },
  {
   "cell_type": "code",
   "execution_count": 13,
   "metadata": {},
   "outputs": [],
   "source": [
    "def summarize_text(text):\n",
    "    max_input_length = tokenizer.model_max_length\n",
    "    if len(text) > max_input_length:\n",
    "        text = text[:max_input_length]\n",
    "        print(\"Input text truncated to fit model limits.\")\n",
    "    inputs = tokenizer.encode(\"summarize: \" + text, return_tensors=\"pt\", max_length=512, truncation=True)\n",
    "    outputs = model.generate(inputs, max_length=50, min_length=10, length_penalty=2.0, num_beams=4, early_stopping=True)\n",
    "    return tokenizer.decode(outputs[0], skip_special_tokens=True)"
   ]
  },
  {
   "cell_type": "code",
   "execution_count": 14,
   "metadata": {},
   "outputs": [],
   "source": [
    "def summarize_clipboard_text():\n",
    "    try:\n",
    "        text = pyperclip.paste()\n",
    "        if not isinstance(text, str):\n",
    "            raise ValueError(\"Clipboard content is not text.\")\n",
    "        if len(text) > 100:\n",
    "            summary = summarize_text(text)\n",
    "            notify_user(\"Summary\", summary)\n",
    "        else:\n",
    "            notify_user(\"Error\", \"The selected text is too short to summarize.\")\n",
    "    except Exception as e:\n",
    "        print(\"Error summarizing clipboard text:\", e)"
   ]
  },
  {
   "cell_type": "code",
   "execution_count": 15,
   "metadata": {},
   "outputs": [],
   "source": [
    "def monitor_clipboard():\n",
    "    monitoring.set()\n",
    "    last_text = \"\"\n",
    "    print(\"Monitoring clipboard for text...\")\n",
    "    while monitoring.is_set():\n",
    "        try:\n",
    "            text = pyperclip.paste()\n",
    "        except Exception as e:\n",
    "            print(\"Error reading clipboard:\", e)\n",
    "            time.sleep(1)\n",
    "            continue\n",
    "        if text != last_text:  # Detect new text\n",
    "            last_text = text\n",
    "            summarize_clipboard_text()\n",
    "        time.sleep(1)  # Check the clipboard every second"
   ]
  },
  {
   "cell_type": "code",
   "execution_count": 16,
   "metadata": {},
   "outputs": [],
   "source": [
    "\n",
    "# Menu actions for the tray icon\n",
    "def on_start(icon, item):\n",
    "    if not monitoring.is_set():\n",
    "        notify_user(\"Clipboard monitoring started.\")\n",
    "        threading.Thread(target=monitor_clipboard, daemon=True).start()\n",
    "    else:\n",
    "        notify_user(\"Monitoring is already running.\")\n",
    "\n",
    "def on_pause(icon, item):\n",
    "    monitoring.clear()\n",
    "    notify_user(\"Clipboard monitoring paused.\")\n",
    "\n",
    "def on_exit(icon, item):\n",
    "    monitoring.clear()\n",
    "    icon.stop()\n",
    "\n",
    "# Validate icon path\n",
    "icon_path = \"clipboard.ico\"\n",
    "if not os.path.exists(icon_path):\n",
    "    print(f\"Icon file '{icon_path}' not found. Using default icon.\")\n",
    "    icon_path = None\n",
    "\n",
    "# Load the icon image\n",
    "def load_icon(icon_path):\n",
    "    try:\n",
    "        return Image.open(icon_path)\n",
    "    except Exception as e:\n",
    "        print(f\"Failed to load icon: {e}\")\n",
    "        return None\n",
    "    \n",
    "# Load the icon image\n",
    "icon_image = load_icon(\"clipboard.ico\")\n",
    "if not icon_image:\n",
    "    print(\"Could not load the tray icon. Exiting.\")\n",
    "    exit()\n",
    "# Create the system tray icon and menu\n",
    "menu = Menu(\n",
    "    MenuItem(\"Start Monitoring\", on_start),\n",
    "    MenuItem(\"Pause Monitoring\", on_pause),\n",
    "    MenuItem(\"Exit\", on_exit)\n",
    ")\n",
    "tray_icon = Icon(\"Clipboard Summarizer\", icon_image, \"Clipboard Summarizer\", menu)\n"
   ]
  },
  {
   "cell_type": "code",
   "execution_count": null,
   "metadata": {},
   "outputs": [
    {
     "name": "stderr",
     "output_type": "stream",
     "text": [
      "An error occurred when calling message handler\n",
      "Traceback (most recent call last):\n",
      "  File \"p:\\pyperclick\\pyperclick\\Lib\\site-packages\\pystray\\_win32.py\", line 412, in _dispatcher\n",
      "    return int(icon._message_handlers.get(\n",
      "               ^^^^^^^^^^^^^^^^^^^^^^^^^^^\n",
      "  File \"p:\\pyperclick\\pyperclick\\Lib\\site-packages\\pystray\\_win32.py\", line 224, in _on_notify\n",
      "    descriptors[index - 1](self)\n",
      "  File \"p:\\pyperclick\\pyperclick\\Lib\\site-packages\\pystray\\_base.py\", line 328, in inner\n",
      "    callback(self)\n",
      "  File \"p:\\pyperclick\\pyperclick\\Lib\\site-packages\\pystray\\_base.py\", line 453, in __call__\n",
      "    return self._action(icon, self)\n",
      "           ^^^^^^^^^^^^^^^^^^^^^^^^\n",
      "  File \"C:\\Users\\alok\\AppData\\Local\\Temp\\ipykernel_3304\\2390507762.py\", line 4, in on_start\n",
      "    notify_user(\"Clipboard monitoring started.\")\n",
      "TypeError: notify_user() missing 1 required positional argument: 'message'\n"
     ]
    }
   ],
   "source": [
    "tray_icon.run()"
   ]
  },
  {
   "cell_type": "code",
   "execution_count": null,
   "metadata": {},
   "outputs": [],
   "source": []
  }
 ],
 "metadata": {
  "kernelspec": {
   "display_name": "pyperclick",
   "language": "python",
   "name": "python3"
  },
  "language_info": {
   "codemirror_mode": {
    "name": "ipython",
    "version": 3
   },
   "file_extension": ".py",
   "mimetype": "text/x-python",
   "name": "python",
   "nbconvert_exporter": "python",
   "pygments_lexer": "ipython3",
   "version": "3.12.4"
  }
 },
 "nbformat": 4,
 "nbformat_minor": 2
}
